{
 "cells": [
  {
   "cell_type": "markdown",
   "metadata": {},
   "source": [
    "# Create the embeddings for the query examples\n",
    "\n",
    "## Prerequisits\n",
    "- [Ollama](https://ollama.com/search?c=embedding) with the embedding models: `mxbai-embed-large`, `nomic-embed-text`, `all-minilm`\n",
    "- A folder with the queries (`./../../data/idsm_queries`)"
   ]
  },
  {
   "cell_type": "markdown",
   "metadata": {},
   "source": [
    "## Import the required modules"
   ]
  },
  {
   "cell_type": "code",
   "execution_count": null,
   "metadata": {},
   "outputs": [],
   "source": [
    "from tqdm import tqdm\n",
    "import glob\n",
    "from langchain_ollama import OllamaEmbeddings\n",
    "from langchain_community.docstore import InMemoryDocstore\n",
    "import faiss\n",
    "from langchain_community.vectorstores import FAISS\n",
    "import logging\n",
    "from pathlib import Path\n",
    "import os\n",
    "\n",
    "logging.getLogger(\"httpx\").propagate = False\n",
    "logging.getLogger(\"httpx\").setLevel(\"CRITICAL\") "
   ]
  },
  {
   "cell_type": "markdown",
   "metadata": {},
   "source": [
    "## Prepare the embedding variables\n",
    "\n",
    "We use the Ollama Embeddings with one of the following models `mxbai-embed-large`, `nomic-embed-text`, `all-minilm`"
   ]
  },
  {
   "cell_type": "code",
   "execution_count": null,
   "metadata": {},
   "outputs": [],
   "source": [
    "embeddings = OllamaEmbeddings(\n",
    "    model=\"nomic-embed-text\",\n",
    ")"
   ]
  },
  {
   "cell_type": "markdown",
   "metadata": {},
   "source": [
    "We use the FAISS vector storage"
   ]
  },
  {
   "cell_type": "code",
   "execution_count": null,
   "metadata": {},
   "outputs": [],
   "source": [
    "vectorstore = FAISS(\n",
    "    embedding_function=embeddings,\n",
    "    docstore= InMemoryDocstore(),\n",
    "    index= faiss.IndexFlatL2(len(embeddings.embed_query(\"hello world\"))),\n",
    "    index_to_docstore_id={}\n",
    ")"
   ]
  },
  {
   "cell_type": "markdown",
   "metadata": {},
   "source": [
    "We initialise the query directory and the saving/loading path. \n",
    "\n",
    "Note that all the embeddings are available at [this MyBox URL](https://mybox.inria.fr/d/24d9423c67d64f8284fa/) you can download them to avoid waiting for the embedding process to be done. The password is: `Kc8(-8aE`"
   ]
  },
  {
   "cell_type": "code",
   "execution_count": null,
   "metadata": {},
   "outputs": [],
   "source": [
    "query_directory = str(Path(os.getcwd()).parent.parent / 'data' / 'idsm_queries')\n",
    "saving_path = Path(os.getcwd()).parent.parent / 'data' / 'faiss_embeddings' / 'idsm' / \"query_v1_nomic_faiss_index\"\n",
    "documents = []"
   ]
  },
  {
   "cell_type": "markdown",
   "metadata": {},
   "source": [
    "Prepare the documents to be injested"
   ]
  },
  {
   "cell_type": "code",
   "execution_count": null,
   "metadata": {},
   "outputs": [],
   "source": [
    "for filename in glob.glob(query_directory+'/*.rq'):\n",
    "    with open(file=filename,mode=\"r\") as f:\n",
    "        documents.append(f.read())"
   ]
  },
  {
   "cell_type": "code",
   "execution_count": null,
   "metadata": {},
   "outputs": [],
   "source": [
    "len(documents)"
   ]
  },
  {
   "cell_type": "markdown",
   "metadata": {},
   "source": [
    "## Injest the documents "
   ]
  },
  {
   "cell_type": "code",
   "execution_count": null,
   "metadata": {},
   "outputs": [],
   "source": [
    "db = None\n",
    "with tqdm(total=len(documents), desc=\"Ingesting documents\") as pbar:\n",
    "    for d in documents:\n",
    "        if db:\n",
    "            db.add_texts([d])\n",
    "        else:\n",
    "            db = FAISS.from_texts([d], embedding=embeddings)\n",
    "        pbar.update(1)  "
   ]
  },
  {
   "cell_type": "markdown",
   "metadata": {},
   "source": [
    "## Save the embeddings locally"
   ]
  },
  {
   "cell_type": "code",
   "execution_count": null,
   "metadata": {},
   "outputs": [],
   "source": [
    "db.save_local(saving_path)"
   ]
  },
  {
   "cell_type": "markdown",
   "metadata": {},
   "source": [
    "## Load the embeeding"
   ]
  },
  {
   "cell_type": "code",
   "execution_count": null,
   "metadata": {},
   "outputs": [],
   "source": [
    "db = FAISS.load_local(saving_path,embeddings=embeddings,allow_dangerous_deserialization=True)"
   ]
  },
  {
   "cell_type": "code",
   "execution_count": null,
   "metadata": {},
   "outputs": [],
   "source": [
    "db.index.ntotal"
   ]
  },
  {
   "cell_type": "markdown",
   "metadata": {},
   "source": [
    "## Example of query selection"
   ]
  },
  {
   "cell_type": "code",
   "execution_count": null,
   "metadata": {},
   "outputs": [],
   "source": [
    "queries = [\n",
    "    \"What protein targets does donepezil (CHEBI_53289) inhibit with an IC50 less than 10 µM?\",\n",
    "    \"What protein targets does (CHEBI_124758) inhibit with an PF5 less than 10 µM?\",\n",
    "    \"protein targets donepezil (CHEBI_53289) inhibit with IC50\",\n",
    "    \"protein targets donepezil (CHEBI_53289) IC50\",\n",
    "    \"protein donepezil (CHEBI_53289) IC50\",\n",
    "    \"donepezil (CHEBI_53289) IC50\",\n",
    "    \"donepezil 53289 IC50\"\n",
    "    ]\n",
    "\n",
    "query = queries[0]\n",
    "\n",
    "# Retrieve the most similar text\n",
    "retrieved_documents = db.similarity_search(query,k=5)\n",
    "\n",
    "# show the retrieved document's content\n",
    "for doc in retrieved_documents:\n",
    "    print(f\"{doc.page_content}\\n\\n-----------------------------------------\\n\")"
   ]
  }
 ],
 "metadata": {
  "kernelspec": {
   "display_name": "kgbot-rag-backend",
   "language": "python",
   "name": "python3"
  },
  "language_info": {
   "codemirror_mode": {
    "name": "ipython",
    "version": 3
   },
   "file_extension": ".py",
   "mimetype": "text/x-python",
   "name": "python",
   "nbconvert_exporter": "python",
   "pygments_lexer": "ipython3",
   "version": "3.13.1"
  }
 },
 "nbformat": 4,
 "nbformat_minor": 2
}
