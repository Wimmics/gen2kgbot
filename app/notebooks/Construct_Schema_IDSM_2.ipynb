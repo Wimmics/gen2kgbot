{
 "cells": [
  {
   "cell_type": "markdown",
   "metadata": {},
   "source": [
    "# Create the embeddings for the query examples\n",
    "\n",
    "## Prerequisits\n",
    "- [Ollama](https://ollama.com/search?c=embedding) with the embedding models: `mxbai-embed-large`, `nomic-embed-text`, `all-minilm`\n",
    "- A pkl file of the classes (check the notebook `Construct_Schema_IDSM_1.ipynb` to generate it)"
   ]
  },
  {
   "cell_type": "markdown",
   "metadata": {},
   "source": [
    "## Import the required modules"
   ]
  },
  {
   "cell_type": "code",
   "execution_count": 2,
   "metadata": {},
   "outputs": [],
   "source": [
    "from tqdm import tqdm\n",
    "from langchain_ollama import OllamaEmbeddings\n",
    "from langchain_community.docstore import InMemoryDocstore\n",
    "import faiss\n",
    "from langchain_community.vectorstores import FAISS\n",
    "import logging\n",
    "from pathlib import Path\n",
    "import os\n",
    "import pickle\n",
    "\n",
    "logging.getLogger(\"httpx\").propagate = False\n",
    "logging.getLogger(\"httpx\").setLevel(\"CRITICAL\") "
   ]
  },
  {
   "cell_type": "markdown",
   "metadata": {},
   "source": [
    "## Prepare the embedding variables\n",
    "\n",
    "We use the Ollama Embeddings with one of the following models `mxbai-embed-large`, `nomic-embed-text`, `all-minilm`"
   ]
  },
  {
   "cell_type": "code",
   "execution_count": 3,
   "metadata": {},
   "outputs": [],
   "source": [
    "embeddings = OllamaEmbeddings(\n",
    "    model=\"nomic-embed-text\",\n",
    ")"
   ]
  },
  {
   "cell_type": "markdown",
   "metadata": {},
   "source": [
    "We use the FAISS vector storage"
   ]
  },
  {
   "cell_type": "code",
   "execution_count": null,
   "metadata": {},
   "outputs": [],
   "source": [
    "vectorstore = FAISS(\n",
    "    embedding_function=embeddings,\n",
    "    docstore= InMemoryDocstore(),\n",
    "    index= faiss.IndexFlatL2(len(embeddings.embed_query(\"hello world\"))),\n",
    "    index_to_docstore_id={}\n",
    ")"
   ]
  },
  {
   "cell_type": "markdown",
   "metadata": {},
   "source": [
    "We initialise the query directory and the saving/loading path. \n",
    "\n",
    "Note that all the embeddings are available at [this MyBox URL](https://mybox.inria.fr/d/24d9423c67d64f8284fa/) you can download them to avoid waiting for the embedding process to be done. The password is: `Kc8(-8aE`"
   ]
  },
  {
   "cell_type": "markdown",
   "metadata": {},
   "source": [
    "## Load the classes from the pickle"
   ]
  },
  {
   "cell_type": "code",
   "execution_count": null,
   "metadata": {},
   "outputs": [],
   "source": [
    "classes_directory = Path(os.getcwd()).parent.parent / 'data' / 'saved_pkls' / 'idsm'\n",
    "\n",
    "with open(f\"{classes_directory}/classes.pkl\", 'rb') as handle:\n",
    "    classes = pickle.load(handle)\n",
    "    print(len(classes))"
   ]
  },
  {
   "cell_type": "code",
   "execution_count": 5,
   "metadata": {},
   "outputs": [],
   "source": [
    "saving_path = Path(os.getcwd()).parent.parent / 'data' / 'faiss_embeddings' / 'idsm' / \"v3_4_full_nomic_faiss_index\""
   ]
  },
  {
   "cell_type": "markdown",
   "metadata": {},
   "source": [
    "Prepare the documents to be injested"
   ]
  },
  {
   "cell_type": "code",
   "execution_count": null,
   "metadata": {},
   "outputs": [],
   "source": [
    "documents = [cls.__str__() for cls in classes]\n",
    "len(documents)"
   ]
  },
  {
   "cell_type": "markdown",
   "metadata": {},
   "source": [
    "## Injest the documents "
   ]
  },
  {
   "cell_type": "code",
   "execution_count": null,
   "metadata": {},
   "outputs": [],
   "source": [
    "db = None\n",
    "with tqdm(total=len(documents), desc=\"Ingesting documents\") as pbar:\n",
    "    for d in documents:\n",
    "        if db:\n",
    "            db.add_texts([d])\n",
    "        else:\n",
    "            db = FAISS.from_texts([d], embedding=embeddings)\n",
    "        pbar.update(1)  "
   ]
  },
  {
   "cell_type": "markdown",
   "metadata": {},
   "source": [
    "## Save the embeddings locally"
   ]
  },
  {
   "cell_type": "code",
   "execution_count": null,
   "metadata": {},
   "outputs": [],
   "source": [
    "db.save_local(saving_path)"
   ]
  },
  {
   "cell_type": "markdown",
   "metadata": {},
   "source": [
    "## Load the embeeding"
   ]
  },
  {
   "cell_type": "code",
   "execution_count": 6,
   "metadata": {},
   "outputs": [
    {
     "data": {
      "text/plain": [
       "232922"
      ]
     },
     "execution_count": 6,
     "metadata": {},
     "output_type": "execute_result"
    }
   ],
   "source": [
    "db = FAISS.load_local(saving_path,embeddings=embeddings,allow_dangerous_deserialization=True)\n",
    "db.index.ntotal"
   ]
  },
  {
   "cell_type": "markdown",
   "metadata": {},
   "source": [
    "## Example of query selection"
   ]
  },
  {
   "cell_type": "code",
   "execution_count": 7,
   "metadata": {},
   "outputs": [
    {
     "name": "stdout",
     "output_type": "stream",
     "text": [
      "('http://purl.obolibrary.org/obo/CHEBI_174058', 'Donepezil metabolite M4', None)\n",
      "\n",
      "-----------------------------------------\n",
      "\n",
      "('http://purl.obolibrary.org/obo/OBI_0001992', 'assay measuring the half maximal inhibitory concentration [IC50] of a MHC:ligand complex', None)\n",
      "\n",
      "-----------------------------------------\n",
      "\n"
     ]
    }
   ],
   "source": [
    "queries = [\n",
    "    \"What protein targets does donepezil (CHEBI_53289) inhibit with an IC50 less than 10 µM?\",\n",
    "    \"What protein targets does (CHEBI_124758) inhibit with an PF5 less than 10 µM?\",\n",
    "    \"protein targets donepezil (CHEBI_53289) inhibit with IC50\",\n",
    "    \"protein targets donepezil (CHEBI_53289) IC50\",\n",
    "    \"protein donepezil (CHEBI_53289) IC50\",\n",
    "    \"donepezil (CHEBI_53289) IC50\",\n",
    "    \"donepezil 53289 IC50\"\n",
    "    ]\n",
    "\n",
    "query = queries[0]\n",
    "\n",
    "# Retrieve the most similar text\n",
    "retrieved_documents = db.similarity_search(query,k=2)\n",
    "\n",
    "# show the retrieved document's content\n",
    "for doc in retrieved_documents:\n",
    "    print(f\"{doc.page_content}\\n\\n-----------------------------------------\\n\")"
   ]
  },
  {
   "cell_type": "markdown",
   "metadata": {},
   "source": [
    "## Evaluate the diffrent query forms\n",
    "\n",
    "This is good to see if a preprocessing task would be benificial"
   ]
  },
  {
   "cell_type": "code",
   "execution_count": 8,
   "metadata": {},
   "outputs": [
    {
     "name": "stdout",
     "output_type": "stream",
     "text": [
      "What protein targets does donepezil (CHEBI_53289) inhibit with an IC50 less than 10 µM? => 0\n",
      "protein, targets, donepezil, CHEBI_53289, inhibit, IC50 => 1\n",
      "protein targets donepezil (CHEBI_53289) inhibit with IC50 => 1\n",
      "protein targets donepezil (CHEBI_53289) IC50 => 1\n",
      "protein donepezil (CHEBI_53289) IC50 => 1\n",
      "donepezil (CHEBI_53289) IC50 => 1\n",
      "donepezil 53289 IC50 => 2\n",
      "\n",
      "donepezil 53289 IC50 => 2\n"
     ]
    }
   ],
   "source": [
    "queries = [\n",
    "    \"What protein targets does donepezil (CHEBI_53289) inhibit with an IC50 less than 10 µM?\",\n",
    "    \"protein, targets, donepezil, CHEBI_53289, inhibit, IC50\",\n",
    "    \"protein targets donepezil (CHEBI_53289) inhibit with IC50\",\n",
    "    \"protein targets donepezil (CHEBI_53289) IC50\",\n",
    "    \"protein donepezil (CHEBI_53289) IC50\",\n",
    "    \"donepezil (CHEBI_53289) IC50\",\n",
    "    \"donepezil 53289 IC50\",\n",
    "    ]\n",
    "\n",
    "to_find_iris = [\n",
    "    \"http://purl.obolibrary.org/obo/CHEBI_53289\",\n",
    "    \"http://www.bioassayontology.org/bao#BAO_0000190\",\n",
    "    \"http://www.bioassayontology.org/bao#BAO_0000040\",\n",
    "    \"http://purl.obolibrary.org/obo/CHEBI_105741\",\n",
    "    \"http://purl.obolibrary.org/obo/CHEBI_109001\",\n",
    "    \"http://purl.obolibrary.org/obo/CHEBI_109002\" ,\n",
    "    \"http://purl.obolibrary.org/obo/CHEBI_109462\" ,\n",
    "    \"http://purl.obolibrary.org/obo/CHEBI_114247\" ,\n",
    "    \"http://purl.obolibrary.org/obo/CHEBI_95316\"\n",
    "     ]\n",
    "\n",
    "\n",
    "best_q = -1\n",
    "best_score = 0\n",
    "score = 0\n",
    "\n",
    "for q in queries:\n",
    "    score = 0\n",
    "    # Retrieve the most similar text\n",
    "    retrieved_documents = db.similarity_search(q,k=20)\n",
    "\n",
    "    for doc in retrieved_documents:\n",
    "        for iri in to_find_iris:\n",
    "            if doc.page_content.find(iri) != -1:\n",
    "                score = score + 1\n",
    "        \n",
    "        if score > best_score:\n",
    "            best_score = score\n",
    "            best_q = q\n",
    "\n",
    "    print(f\"{q} => {score}\")\n",
    "\n",
    "print()\n",
    "print(f\"{best_q} => {best_score}\")"
   ]
  },
  {
   "cell_type": "markdown",
   "metadata": {},
   "source": [
    "## Get the context of the selected classes"
   ]
  },
  {
   "cell_type": "code",
   "execution_count": 2,
   "metadata": {},
   "outputs": [],
   "source": [
    "import os\n",
    "import sys\n",
    "\n",
    "module_path = os.path.abspath(os.path.join('..', '..'))  # Adjust the dots as needed\n",
    "if module_path not in sys.path:\n",
    "    sys.path.append(module_path)\n",
    "\n",
    "if os.path.exists(\"./logs\") == False:\n",
    "    os.mkdir(\"logs\")\n",
    "\n",
    "import ast\n",
    "from app.core.utils.construct_util import get_empty_graph_with_prefixes, format_class_graph_file, get_context_if_not_found"
   ]
  },
  {
   "cell_type": "code",
   "execution_count": null,
   "metadata": {},
   "outputs": [],
   "source": [
    "g = get_empty_graph_with_prefixes()\n",
    "\n",
    "for doc in retrieved_documents:\n",
    "    cls = ast.literal_eval(doc.page_content)\n",
    "    cls_path = format_class_graph_file(cls[0])\n",
    "    print(\"Current Classe: \"+cls[0])\n",
    "    cls_context_graph = get_context_if_not_found(cls,cls_path)\n",
    "    g = g + cls_context_graph\n",
    "    \n",
    "saving_graph = Path(os.getcwd()).parent.parent / 'tmp' / 'notebook_merging.ttl'\n",
    "\n",
    "# Save the graph\n",
    "g.serialize(destination=f\"{saving_graph}\", format='turtle')\n"
   ]
  },
  {
   "cell_type": "markdown",
   "metadata": {},
   "source": [
    "### Embeddings with Chroma Vector Store\n",
    "\n",
    "The idea would be the same but we need to use the right classes and for saving the embeddings it is **important** to specify the `persist_directory` on the creation."
   ]
  },
  {
   "cell_type": "code",
   "execution_count": 9,
   "metadata": {},
   "outputs": [],
   "source": [
    "from langchain_chroma import Chroma"
   ]
  },
  {
   "cell_type": "code",
   "execution_count": 10,
   "metadata": {},
   "outputs": [],
   "source": [
    "embeddings_cn = OllamaEmbeddings(\n",
    "    model=\"nomic-embed-text\",\n",
    ")"
   ]
  },
  {
   "cell_type": "code",
   "execution_count": 11,
   "metadata": {},
   "outputs": [
    {
     "data": {
      "text/plain": [
       "232922"
      ]
     },
     "execution_count": 11,
     "metadata": {},
     "output_type": "execute_result"
    }
   ],
   "source": [
    "saving_path_chroma = Path(os.getcwd()).parent.parent / 'data' / 'chroma_embeddings' / 'idsm' / \"v3_4_full_nomic_chroma_index\"\n",
    "dbcn = Chroma(persist_directory=str(saving_path_chroma), embedding_function=embeddings_cn)\n",
    "len(dbcn.get()['documents']) "
   ]
  },
  {
   "cell_type": "code",
   "execution_count": null,
   "metadata": {},
   "outputs": [],
   "source": [
    "\n",
    "dbcn = None\n",
    "with tqdm(total=len(documents), desc=\"Ingesting documents\") as pbar:\n",
    "    for d in documents:\n",
    "        if dbcn:\n",
    "            dbcn.add_texts([d])\n",
    "        else:\n",
    "            dbcn = Chroma.from_texts(texts=[d], embedding=embeddings_cn,persist_directory=str(saving_path_chroma))\n",
    "        pbar.update(1)  "
   ]
  },
  {
   "cell_type": "markdown",
   "metadata": {},
   "source": [
    "And for the search we use:"
   ]
  },
  {
   "cell_type": "code",
   "execution_count": null,
   "metadata": {},
   "outputs": [],
   "source": [
    "dbcn.similarity_search(query=\"ic50\",k=3)"
   ]
  },
  {
   "cell_type": "code",
   "execution_count": null,
   "metadata": {},
   "outputs": [
    {
     "ename": "NameError",
     "evalue": "name 'dbcn' is not defined",
     "output_type": "error",
     "traceback": [
      "\u001b[0;31m---------------------------------------------------------------------------\u001b[0m",
      "\u001b[0;31mNameError\u001b[0m                                 Traceback (most recent call last)",
      "Cell \u001b[0;32mIn[1], line 31\u001b[0m\n\u001b[1;32m     29\u001b[0m score \u001b[38;5;241m=\u001b[39m \u001b[38;5;241m0\u001b[39m\n\u001b[1;32m     30\u001b[0m \u001b[38;5;66;03m# Retrieve the most similar text\u001b[39;00m\n\u001b[0;32m---> 31\u001b[0m retrieved_documents \u001b[38;5;241m=\u001b[39m \u001b[43mdbcn\u001b[49m\u001b[38;5;241m.\u001b[39msimilarity_search(q,k\u001b[38;5;241m=\u001b[39m\u001b[38;5;241m15\u001b[39m)\n\u001b[1;32m     33\u001b[0m \u001b[38;5;28;01mfor\u001b[39;00m doc \u001b[38;5;129;01min\u001b[39;00m retrieved_documents:\n\u001b[1;32m     34\u001b[0m     \u001b[38;5;28;01mfor\u001b[39;00m iri \u001b[38;5;129;01min\u001b[39;00m to_find_iris:\n",
      "\u001b[0;31mNameError\u001b[0m: name 'dbcn' is not defined"
     ]
    }
   ],
   "source": [
    "queries = [\n",
    "    \"What protein targets does donepezil (CHEBI_53289) inhibit with an IC50 less than 10 µM?\",\n",
    "    \"protein, targets, donepezil, CHEBI_53289, inhibit, IC50\",\n",
    "    \"protein targets donepezil (CHEBI_53289) inhibit with IC50\",\n",
    "    \"protein targets donepezil (CHEBI_53289) IC50\",\n",
    "    \"protein donepezil (CHEBI_53289) IC50\",\n",
    "    \"donepezil (CHEBI_53289) IC50\",\n",
    "    \"donepezil 53289 IC50\",\n",
    "    ]\n",
    "\n",
    "to_find_iris = [\n",
    "    \"http://purl.obolibrary.org/obo/CHEBI_53289\",\n",
    "    \"http://www.bioassayontology.org/bao#BAO_0000190\",\n",
    "    \"http://www.bioassayontology.org/bao#BAO_0000040\",\n",
    "    \"http://purl.obolibrary.org/obo/CHEBI_105741\",\n",
    "    \"http://purl.obolibrary.org/obo/CHEBI_109001\",\n",
    "    \"http://purl.obolibrary.org/obo/CHEBI_109002\" ,\n",
    "    \"http://purl.obolibrary.org/obo/CHEBI_109462\" ,\n",
    "    \"http://purl.obolibrary.org/obo/CHEBI_114247\" ,\n",
    "    \"http://purl.obolibrary.org/obo/CHEBI_95316\"\n",
    "     ]\n",
    "\n",
    "\n",
    "best_q = -1\n",
    "best_score = 0\n",
    "score = 0\n",
    "\n",
    "for q in queries:\n",
    "    score = 0\n",
    "    # Retrieve the most similar text\n",
    "    retrieved_documents = dbcn.similarity_search(q,k=15)\n",
    "\n",
    "    for doc in retrieved_documents:\n",
    "        for iri in to_find_iris:\n",
    "            if doc.page_content.find(iri) != -1:\n",
    "                score = score + 1\n",
    "        \n",
    "        if score > best_score:\n",
    "            best_score = score\n",
    "            best_q = q\n",
    "\n",
    "    print(f\"{q} => {score}\")\n",
    "\n",
    "print()\n",
    "print(f\"{best_q} => {best_score}\")"
   ]
  },
  {
   "cell_type": "markdown",
   "metadata": {},
   "source": [
    "### Embeddings with Qdrant Vector Store\n",
    "\n",
    "The idea would be the same but we need to use the right classes and for saving the embeddings it is **important** to specify the `path` on the creation of the `QdrantClient`. Also you need tp put the right size when creating the collection e.g. `size=384` for `miniln`"
   ]
  },
  {
   "cell_type": "code",
   "execution_count": null,
   "metadata": {},
   "outputs": [],
   "source": [
    "from langchain_qdrant import QdrantVectorStore\n",
    "from qdrant_client import QdrantClient\n",
    "from qdrant_client.http.models import Distance, VectorParams"
   ]
  },
  {
   "cell_type": "code",
   "execution_count": null,
   "metadata": {},
   "outputs": [],
   "source": [
    "embeddings_qdrant = OllamaEmbeddings(\n",
    "    model=\"mxbai-embed-large\",\n",
    ")\n",
    "\n",
    "saving_path_qdrant = Path(os.getcwd()).parent.parent / 'data' / 'qdrant_embeddings' / 'idsm' / \"v3_4_full_mxbai_qdrant_index\"\n",
    "\n",
    "client = QdrantClient(path=saving_path_qdrant)"
   ]
  },
  {
   "cell_type": "code",
   "execution_count": null,
   "metadata": {},
   "outputs": [],
   "source": [
    "client.create_collection(\n",
    "    collection_name=\"pubchem_classes\",\n",
    "    vectors_config=VectorParams(size=1024, distance=Distance.COSINE),\n",
    ")\n"
   ]
  },
  {
   "cell_type": "code",
   "execution_count": null,
   "metadata": {},
   "outputs": [],
   "source": [
    "qudrant_vs = QdrantVectorStore(\n",
    "    client=client,\n",
    "    collection_name=\"pubchem_classes\",\n",
    "    embedding=embeddings_qdrant,\n",
    ")"
   ]
  },
  {
   "cell_type": "code",
   "execution_count": null,
   "metadata": {},
   "outputs": [],
   "source": [
    "with tqdm(total=len(documents), desc=\"Ingesting documents\") as pbar:\n",
    "    for d in documents:\n",
    "        if qudrant_vs:\n",
    "            qudrant_vs.add_texts([d])\n",
    "        else:\n",
    "            qudrant_vs = qudrant_vs.from_texts(texts=[d], embedding=embeddings_qdrant,path=saving_path_qdrant)\n",
    "        pbar.update(1)  "
   ]
  },
  {
   "cell_type": "markdown",
   "metadata": {},
   "source": [
    "And for the search we use:"
   ]
  },
  {
   "cell_type": "code",
   "execution_count": null,
   "metadata": {},
   "outputs": [],
   "source": [
    "qudrant_vs.similarity_search(query=\"ic50\",k=15)"
   ]
  },
  {
   "cell_type": "code",
   "execution_count": null,
   "metadata": {},
   "outputs": [],
   "source": [
    "queries = [\n",
    "    \"What protein targets does donepezil (CHEBI_53289) inhibit with an IC50 less than 10 µM?\",\n",
    "    \"protein, targets, donepezil, CHEBI_53289, inhibit, IC50\",\n",
    "    \"protein targets donepezil (CHEBI_53289) inhibit with IC50\",\n",
    "    \"protein targets donepezil (CHEBI_53289) IC50\",\n",
    "    \"protein donepezil (CHEBI_53289) IC50\",\n",
    "    \"donepezil (CHEBI_53289) IC50\",\n",
    "    \"donepezil 53289 IC50\",\n",
    "    ]\n",
    "\n",
    "to_find_iris = [\n",
    "    \"http://purl.obolibrary.org/obo/CHEBI_53289\",\n",
    "    \"http://www.bioassayontology.org/bao#BAO_0000190\",\n",
    "    \"http://www.bioassayontology.org/bao#BAO_0000040\",\n",
    "    \"http://purl.obolibrary.org/obo/CHEBI_105741\",\n",
    "    \"http://purl.obolibrary.org/obo/CHEBI_109001\",\n",
    "    \"http://purl.obolibrary.org/obo/CHEBI_109002\" ,\n",
    "    \"http://purl.obolibrary.org/obo/CHEBI_109462\" ,\n",
    "    \"http://purl.obolibrary.org/obo/CHEBI_114247\" ,\n",
    "    \"http://purl.obolibrary.org/obo/CHEBI_95316\"\n",
    "     ]\n",
    "\n",
    "\n",
    "best_q = -1\n",
    "best_score = 0\n",
    "score = 0\n",
    "\n",
    "for q in queries:\n",
    "    score = 0\n",
    "    # Retrieve the most similar text\n",
    "    retrieved_documents = qudrant_vs.similarity_search(q,k=20)\n",
    "\n",
    "    for doc in retrieved_documents:\n",
    "        for iri in to_find_iris:\n",
    "            if doc.page_content.find(iri) != -1:\n",
    "                score = score + 1\n",
    "        \n",
    "        if score > best_score:\n",
    "            best_score = score\n",
    "            best_q = q\n",
    "\n",
    "    print(f\"{q} => {score}\")\n",
    "\n",
    "print()\n",
    "print(f\"{best_q} => {best_score}\")"
   ]
  }
 ],
 "metadata": {
  "kernelspec": {
   "display_name": "kgbot-rag-backend",
   "language": "python",
   "name": "python3"
  },
  "language_info": {
   "codemirror_mode": {
    "name": "ipython",
    "version": 3
   },
   "file_extension": ".py",
   "mimetype": "text/x-python",
   "name": "python",
   "nbconvert_exporter": "python",
   "pygments_lexer": "ipython3",
   "version": "3.13.1"
  }
 },
 "nbformat": 4,
 "nbformat_minor": 2
}
